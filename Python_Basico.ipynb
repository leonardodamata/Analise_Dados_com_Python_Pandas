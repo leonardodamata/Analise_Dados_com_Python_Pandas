{
 "cells": [
  {
   "cell_type": "code",
   "execution_count": 1,
   "id": "bb3229d3",
   "metadata": {},
   "outputs": [
    {
     "name": "stdout",
     "output_type": "stream",
     "text": [
      "Olá Mundo\n"
     ]
    }
   ],
   "source": [
    "print(\"Olá Mundo\")"
   ]
  },
  {
   "cell_type": "code",
   "execution_count": 2,
   "id": "21b2bbad",
   "metadata": {},
   "outputs": [
    {
     "name": "stdout",
     "output_type": "stream",
     "text": [
      "Estou Aprendendo Python\n"
     ]
    }
   ],
   "source": [
    "print(\"Estou Aprendendo Python\")"
   ]
  },
  {
   "cell_type": "code",
   "execution_count": 3,
   "id": "755e8f61",
   "metadata": {},
   "outputs": [
    {
     "data": {
      "text/plain": [
       "'Estou aprendendo Python'"
      ]
     },
     "execution_count": 3,
     "metadata": {},
     "output_type": "execute_result"
    }
   ],
   "source": [
    "\"Estou aprendendo Python\""
   ]
  },
  {
   "cell_type": "code",
   "execution_count": 4,
   "id": "cce75ddb",
   "metadata": {},
   "outputs": [
    {
     "data": {
      "text/plain": [
       "2"
      ]
     },
     "execution_count": 4,
     "metadata": {},
     "output_type": "execute_result"
    }
   ],
   "source": [
    "1 + 1"
   ]
  },
  {
   "cell_type": "code",
   "execution_count": 5,
   "id": "24861a1e",
   "metadata": {},
   "outputs": [
    {
     "data": {
      "text/plain": [
       "8"
      ]
     },
     "execution_count": 5,
     "metadata": {},
     "output_type": "execute_result"
    }
   ],
   "source": [
    "10 - 2"
   ]
  },
  {
   "cell_type": "code",
   "execution_count": 6,
   "id": "cb25819d",
   "metadata": {},
   "outputs": [],
   "source": [
    "#Esse é um comentário em Python"
   ]
  },
  {
   "cell_type": "code",
   "execution_count": 7,
   "id": "87ce3ef8",
   "metadata": {},
   "outputs": [
    {
     "data": {
      "text/plain": [
       "4"
      ]
     },
     "execution_count": 7,
     "metadata": {},
     "output_type": "execute_result"
    }
   ],
   "source": [
    "#Multiplicação\n",
    "2 * 2"
   ]
  },
  {
   "cell_type": "code",
   "execution_count": 8,
   "id": "6e2882d0",
   "metadata": {},
   "outputs": [
    {
     "data": {
      "text/plain": [
       "2.0"
      ]
     },
     "execution_count": 8,
     "metadata": {},
     "output_type": "execute_result"
    }
   ],
   "source": [
    "#Divisão\n",
    "10/5"
   ]
  },
  {
   "cell_type": "code",
   "execution_count": 10,
   "id": "bdaeec3a",
   "metadata": {},
   "outputs": [],
   "source": [
    "a = 4\n",
    "b = 6"
   ]
  },
  {
   "cell_type": "code",
   "execution_count": 11,
   "id": "fca5a260",
   "metadata": {},
   "outputs": [
    {
     "data": {
      "text/plain": [
       "10"
      ]
     },
     "execution_count": 11,
     "metadata": {},
     "output_type": "execute_result"
    }
   ],
   "source": [
    "a + b"
   ]
  },
  {
   "cell_type": "code",
   "execution_count": 12,
   "id": "2b53e454",
   "metadata": {},
   "outputs": [],
   "source": [
    "#Criando uma variável do tipo String\n",
    "frase = \"Python para análise de dados\""
   ]
  },
  {
   "cell_type": "code",
   "execution_count": 13,
   "id": "ad9d957a",
   "metadata": {},
   "outputs": [
    {
     "data": {
      "text/plain": [
       "'P'"
      ]
     },
     "execution_count": 13,
     "metadata": {},
     "output_type": "execute_result"
    }
   ],
   "source": [
    "frase[0]"
   ]
  },
  {
   "cell_type": "code",
   "execution_count": 14,
   "id": "f2642ef8",
   "metadata": {},
   "outputs": [
    {
     "data": {
      "text/plain": [
       "'Python par'"
      ]
     },
     "execution_count": 14,
     "metadata": {},
     "output_type": "execute_result"
    }
   ],
   "source": [
    "frase[0:10]"
   ]
  },
  {
   "cell_type": "code",
   "execution_count": 15,
   "id": "94d62012",
   "metadata": {},
   "outputs": [
    {
     "data": {
      "text/plain": [
       "'a análise de dados'"
      ]
     },
     "execution_count": 15,
     "metadata": {},
     "output_type": "execute_result"
    }
   ],
   "source": [
    "frase[10:]"
   ]
  },
  {
   "cell_type": "code",
   "execution_count": 16,
   "id": "260b37a4",
   "metadata": {},
   "outputs": [
    {
     "data": {
      "text/plain": [
       "'Python para análi'"
      ]
     },
     "execution_count": 16,
     "metadata": {},
     "output_type": "execute_result"
    }
   ],
   "source": [
    "frase[:17]"
   ]
  },
  {
   "cell_type": "code",
   "execution_count": 17,
   "id": "7ef07757",
   "metadata": {},
   "outputs": [
    {
     "data": {
      "text/plain": [
       "1"
      ]
     },
     "execution_count": 17,
     "metadata": {},
     "output_type": "execute_result"
    }
   ],
   "source": [
    "frase.count(\"dados\")"
   ]
  },
  {
   "cell_type": "code",
   "execution_count": 18,
   "id": "f629899e",
   "metadata": {},
   "outputs": [
    {
     "data": {
      "text/plain": [
       "'python para análise de dados'"
      ]
     },
     "execution_count": 18,
     "metadata": {},
     "output_type": "execute_result"
    }
   ],
   "source": [
    "frase.lower()"
   ]
  },
  {
   "cell_type": "code",
   "execution_count": 21,
   "id": "a4e92b25",
   "metadata": {},
   "outputs": [],
   "source": [
    "frase = frase.upper()"
   ]
  },
  {
   "cell_type": "code",
   "execution_count": 20,
   "id": "d752ab04",
   "metadata": {},
   "outputs": [
    {
     "data": {
      "text/plain": [
       "'Frases para análise de dados'"
      ]
     },
     "execution_count": 20,
     "metadata": {},
     "output_type": "execute_result"
    }
   ],
   "source": [
    "frase.replace(\"Python\",\"Frases\")"
   ]
  },
  {
   "cell_type": "code",
   "execution_count": 22,
   "id": "0b680975",
   "metadata": {},
   "outputs": [
    {
     "data": {
      "text/plain": [
       "'PYTHON PARA ANÁLISE DE DADOS'"
      ]
     },
     "execution_count": 22,
     "metadata": {},
     "output_type": "execute_result"
    }
   ],
   "source": [
    "frase"
   ]
  },
  {
   "cell_type": "code",
   "execution_count": null,
   "id": "1cf6cee8",
   "metadata": {},
   "outputs": [],
   "source": []
  }
 ],
 "metadata": {
  "kernelspec": {
   "display_name": "Python 3",
   "language": "python",
   "name": "python3"
  },
  "language_info": {
   "codemirror_mode": {
    "name": "ipython",
    "version": 3
   },
   "file_extension": ".py",
   "mimetype": "text/x-python",
   "name": "python",
   "nbconvert_exporter": "python",
   "pygments_lexer": "ipython3",
   "version": "3.8.8"
  }
 },
 "nbformat": 4,
 "nbformat_minor": 5
}
